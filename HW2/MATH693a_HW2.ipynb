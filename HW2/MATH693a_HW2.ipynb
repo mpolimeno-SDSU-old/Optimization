{
 "cells": [
  {
   "cell_type": "code",
   "execution_count": 1,
   "metadata": {},
   "outputs": [],
   "source": [
    "import numpy as np\n",
    "import matplotlib.pyplot as plt\n",
    "from mpl_toolkits.mplot3d import Axes3D\n",
    "from scipy import linalg as LA\n",
    "import time\n",
    "%matplotlib notebook\n",
    "%matplotlib inline"
   ]
  },
  {
   "cell_type": "code",
   "execution_count": 2,
   "metadata": {},
   "outputs": [
    {
     "name": "stdout",
     "output_type": "stream",
     "text": [
      "[0.   0.01 0.02 0.03 0.04 0.05 0.06 0.07 0.08 0.09 0.1  0.11 0.12 0.13\n",
      " 0.14 0.15 0.16 0.17 0.18 0.19 0.2  0.21 0.22 0.23 0.24 0.25 0.26 0.27\n",
      " 0.28 0.29 0.3  0.31 0.32 0.33 0.34 0.35 0.36 0.37 0.38 0.39 0.4  0.41\n",
      " 0.42 0.43 0.44 0.45 0.46 0.47 0.48 0.49 0.5  0.51 0.52 0.53 0.54 0.55\n",
      " 0.56 0.57 0.58 0.59 0.6  0.61 0.62 0.63 0.64 0.65 0.66 0.67 0.68 0.69\n",
      " 0.7  0.71 0.72 0.73 0.74 0.75 0.76 0.77 0.78 0.79 0.8  0.81 0.82 0.83\n",
      " 0.84 0.85 0.86 0.87 0.88 0.89 0.9  0.91 0.92 0.93 0.94 0.95 0.96 0.97\n",
      " 0.98 0.99 1.  ]\n"
     ]
    }
   ],
   "source": [
    "alpha_l = 0.\n",
    "alpha_h = 1.\n",
    "alpha = np.linspace(alpha_l, alpha_h,101)\n",
    "print alpha"
   ]
  },
  {
   "cell_type": "code",
   "execution_count": 3,
   "metadata": {},
   "outputs": [],
   "source": [
    "def rb_grad(x):\n",
    "    df1 = 400.*x[0]*(x[0]**2-x[1])+2.*(x[0]-1.)\n",
    "    df2 = 200.*(x[1]-x[0]**2.)\n",
    "    grad = np.array([df1,df2])\n",
    "    return grad    "
   ]
  },
  {
   "cell_type": "code",
   "execution_count": 4,
   "metadata": {},
   "outputs": [],
   "source": [
    "def hess(x):\n",
    "    h11 = 1200.*x[0]**2.-400.*x[1]+2.\n",
    "    h12 = -400.*x[0]\n",
    "    h21 = -400.*x[0]\n",
    "    h22 = 200.\n",
    "    hess = np.array([[h11,h12],[h21,h22]])\n",
    "    return hess"
   ]
  },
  {
   "cell_type": "code",
   "execution_count": 5,
   "metadata": {},
   "outputs": [],
   "source": [
    "def invhess(x):\n",
    "    invhess = LA.solve(hess(x),rb_grad(x))\n",
    "    return invhess"
   ]
  },
  {
   "cell_type": "code",
   "execution_count": 7,
   "metadata": {},
   "outputs": [],
   "source": [
    "x = [1.2,1.2]\n",
    "pd = -rb_grad(x)/(LA.norm(rb_grad(x)))"
   ]
  },
  {
   "cell_type": "code",
   "execution_count": 8,
   "metadata": {},
   "outputs": [],
   "source": [
    "x = [1.2,1.2]\n",
    "pn = -invhess(x)"
   ]
  },
  {
   "cell_type": "code",
   "execution_count": 9,
   "metadata": {},
   "outputs": [],
   "source": [
    "def phi_descent(alpha):\n",
    "    phi_d = 100.*(x[1]+alpha*pd[1]-x[0]-alpha*pd[0])**2. + (1.-x[0]-alpha*pd[0])**2.\n",
    "    return phi_d"
   ]
  },
  {
   "cell_type": "code",
   "execution_count": 10,
   "metadata": {},
   "outputs": [],
   "source": [
    "def phiprime_descent(alpha):\n",
    "    phiprime_d = 200.*((pd[1]-pd[0])*(x[1]-x[0])+alpha*(pd[1]-pd[0]))\n",
    "    return phiprime_d"
   ]
  },
  {
   "cell_type": "code",
   "execution_count": 14,
   "metadata": {},
   "outputs": [],
   "source": [
    "def phi_newton(alpha):\n",
    "    phi_n = 100.*(x[1]+alpha*pn[1]-x[0]-alpha*pn[0])**2. + (1.-x[0]-alpha*pn[0])**2.\n",
    "    return phi_n"
   ]
  },
  {
   "cell_type": "code",
   "execution_count": 15,
   "metadata": {},
   "outputs": [],
   "source": [
    "def phiprime_newton(alpha):\n",
    "    phiprime_n = 200.*((pn[1]-pn[0])*(x[1]-x[0])+alpha*(pn[1]-pn[0]))\n",
    "    return phiprime_n"
   ]
  },
  {
   "cell_type": "code",
   "execution_count": 153,
   "metadata": {},
   "outputs": [
    {
     "name": "stdout",
     "output_type": "stream",
     "text": [
      "0.03999999999999998\n",
      "171.35613305607328\n",
      "0.0\n",
      "261.40589890902703\n"
     ]
    }
   ],
   "source": [
    "print phi_descent(alpha_l)\n",
    "print phi_descent(alpha_h)\n",
    "print phiprime_descent(alpha_l)\n",
    "print phiprime_descent(alpha_h)"
   ]
  },
  {
   "cell_type": "code",
   "execution_count": 11,
   "metadata": {},
   "outputs": [],
   "source": [
    "def H3_descent(alpha):\n",
    "    H3 = ((1.+2.*((alpha-alpha_l)/(alpha_h-alpha_l)))*(((alpha_h-alpha)/(alpha_h-alpha_l))**2.)*phi_descent(alpha_l)\n",
    "         +(1.+2.*((alpha_h-alpha)/(alpha_h-alpha_l)))*(((alpha-alpha_l)/(alpha_h-alpha_l))**2.)*phi_descent(alpha_h)\n",
    "         +(alpha-alpha_l)*(((alpha_h-alpha)/(alpha_h-alpha_l))**2.)*phiprime_descent(alpha_l)+\n",
    "         +(alpha-alpha_h)*(((alpha-alpha_l)/(alpha_h-alpha_l))**2.)*phiprime_descent(alpha_h))    \n",
    "    return H3"
   ]
  },
  {
   "cell_type": "code",
   "execution_count": 12,
   "metadata": {},
   "outputs": [
    {
     "data": {
      "text/plain": [
       "[<matplotlib.lines.Line2D at 0x7dbecc0>]"
      ]
     },
     "execution_count": 12,
     "metadata": {},
     "output_type": "execute_result"
    },
    {
     "data": {
      "image/png": "[encoded data removed]",
      "text/plain": [
       "<Figure size 432x288 with 1 Axes>"
      ]
     },
     "metadata": {},
     "output_type": "display_data"
    }
   ],
   "source": [
    "plt.plot(alpha,H3_descent(alpha))"
   ]
  },
  {
   "cell_type": "code",
   "execution_count": 13,
   "metadata": {},
   "outputs": [
    {
     "name": "stdout",
     "output_type": "stream",
     "text": [
      "0.0\n"
     ]
    }
   ],
   "source": [
    "d1 = phiprime_descent(alpha_l)+phiprime_descent(alpha_h)-3.*((phi_descent(alpha_l)-phi_descent(alpha_h))/(alpha_l-alpha_h))\n",
    "d2 = np.sign(alpha_h-alpha_l)*np.sqrt(np.abs(d1**2.-(phiprime_descent(alpha_l)*phiprime_descent(alpha_h))))\n",
    "alpha_kp1 = alpha_h-((alpha_h-alpha_l)*((phiprime_descent(alpha_h)+d2-d1)/(phiprime_descent(alpha_h)-phiprime_descent(alpha_l)+2.*d2)))\n",
    "print alpha_kp1"
   ]
  },
  {
   "cell_type": "code",
   "execution_count": 161,
   "metadata": {},
   "outputs": [
    {
     "data": {
      "text/plain": [
       "[<matplotlib.lines.Line2D at 0xd0c09e8>]"
      ]
     },
     "execution_count": 161,
     "metadata": {},
     "output_type": "execute_result"
    },
    {
     "data": {
      "image/png": "[encoded data removed]",
      "text/plain": [
       "<Figure size 432x288 with 1 Axes>"
      ]
     },
     "metadata": {},
     "output_type": "display_data"
    }
   ],
   "source": [
    "plt.plot(alpha,H3_descent(alpha))\n",
    "plt.plot(alpha_kp1,'ro',linewidth=2)"
   ]
  },
  {
   "cell_type": "code",
   "execution_count": 16,
   "metadata": {},
   "outputs": [],
   "source": [
    "def H3_newton(alpha):\n",
    "    H3n = ((1.+2.*((alpha-alpha_l)/(alpha_h-alpha_l)))*(((alpha_h-alpha)/(alpha_h-alpha_l))**2.)*phi_newton(alpha_l)\n",
    "         +(1.+2.*((alpha_h-alpha)/(alpha_h-alpha_l)))*(((alpha-alpha_l)/(alpha_h-alpha_l))**2.)*phi_newton(alpha_h)\n",
    "         +(alpha-alpha_l)*(((alpha_h-alpha)/(alpha_h-alpha_l))**2.)*phiprime_newton(alpha_l)+\n",
    "         +(alpha-alpha_h)*(((alpha-alpha_l)/(alpha_h-alpha_l))**2.)*phiprime_newton(alpha_h))    \n",
    "    return H3n"
   ]
  },
  {
   "cell_type": "code",
   "execution_count": 17,
   "metadata": {},
   "outputs": [
    {
     "name": "stdout",
     "output_type": "stream",
     "text": [
      "0.5647158271900478\n"
     ]
    }
   ],
   "source": [
    "d1 = phiprime_newton(alpha_l)+phiprime_newton(alpha_h)-3.*((phi_newton(alpha_l)-phi_newton(alpha_h))/(alpha_l-alpha_h))\n",
    "d2 = np.sign(alpha_h-alpha_l)*np.sqrt(np.abs(d1**2.-(phiprime_newton(alpha_l)*phiprime_newton(alpha_h))))\n",
    "alpha_kp1 = alpha_h-((alpha_h-alpha_l)*((phiprime_newton(alpha_h)+d2-d1)/(phiprime_newton(alpha_h)-phiprime_newton(alpha_l)+2.*d2)))\n",
    "print alpha_kp1"
   ]
  },
  {
   "cell_type": "code",
   "execution_count": null,
   "metadata": {},
   "outputs": [],
   "source": []
  }
 ],
 "metadata": {
  "kernelspec": {
   "display_name": "Python 2",
   "language": "python",
   "name": "python2"
  },
  "language_info": {
   "codemirror_mode": {
    "name": "ipython",
    "version": 2
   },
   "file_extension": ".py",
   "mimetype": "text/x-python",
   "name": "python",
   "nbconvert_exporter": "python",
   "pygments_lexer": "ipython2",
   "version": "2.7.15"
  }
 },
 "nbformat": 4,
 "nbformat_minor": 2
}
